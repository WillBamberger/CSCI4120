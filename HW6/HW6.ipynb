{
 "cells": [
  {
   "cell_type": "markdown",
   "metadata": {},
   "source": [
    "# Homework 5 RF Accuracy Improvement\n",
    "\n",
    "This assignment is inspired by examples of Shan-Hung Wu from National Tsing Hua University.\n",
    "\n",
    "Requirement: improve the accuracy per feature of the following code from 0.03 up to at least 0.45 and accuracy should be more than 0.92\n",
    "\n",
    "Here are three hints:\n",
    "\n",
    "    You can improve the ratio by picking out or \"creating\" several features.\n",
    "    Tune hyperparameters\n",
    "    The ratio can be improved from 0.03 up to 0.47."
   ]
  },
  {
   "cell_type": "code",
   "execution_count": 1,
   "metadata": {},
   "outputs": [
    {
     "name": "stderr",
     "output_type": "stream",
     "text": [
      "/home/wqb/.local/lib/python3.8/site-packages/pandas/core/computation/expressions.py:20: UserWarning: Pandas requires version '2.7.3' or newer of 'numexpr' (version '2.7.1' currently installed).\n",
      "  from pandas.core.computation.check import NUMEXPR_INSTALLED\n"
     ]
    },
    {
     "name": "stdout",
     "output_type": "stream",
     "text": [
      "(569, 30)\n",
      "Accuracy: 0.927114\n",
      "Params: {'n_estimators': 56, 'max_depth': 56}\n",
      "Accuracy: 0.937063\n",
      "Accuracy/feature: 0.468531\n"
     ]
    }
   ],
   "source": [
    "from sklearn.model_selection import train_test_split, RandomizedSearchCV\n",
    "from sklearn.datasets import load_breast_cancer\n",
    "from sklearn.metrics import accuracy_score\n",
    "from sklearn.ensemble import RandomForestClassifier\n",
    "from sklearn.decomposition import PCA\n",
    "import numpy as np\n",
    "import pandas as pd\n",
    "\n",
    "# load the breast_cancer dataset\n",
    "init_data = load_breast_cancer()\n",
    "(X, y) = load_breast_cancer(return_X_y=True)\n",
    "\n",
    "print(X.shape)\n",
    "\n",
    "comps = PCA(n_components=2)\n",
    "X = comps.fit_transform(X)\n",
    "\n",
    "(XTrain, XTest, yTrain, yTest) = train_test_split(X, y, test_size=0.25, random_state=42)\n",
    "RF = RandomForestClassifier()\n",
    "RFparams = {'n_estimators': np.linspace(1, 100, 10, dtype=int),\n",
    "            'max_depth': np.linspace(1, 100, 10, dtype=int)}\n",
    "RFrand = RandomizedSearchCV(RF, RFparams, cv=5, n_iter=10, n_jobs=-1)\n",
    "RFrand.fit(XTrain, yTrain)\n",
    "print(\"Accuracy: %f\" % RFrand.best_score_)\n",
    "print(\"Params:\", RFrand.best_params_)\n",
    "yPredictions = RFrand.best_estimator_.predict(XTest)\n",
    "print(\"Accuracy: %f\" % accuracy_score(yTest, yPredictions))\n",
    "print(\"Accuracy/feature: %f\" % (accuracy_score(yTest, yPredictions) / X.shape[1]))"
   ]
  },
  {
   "cell_type": "code",
   "execution_count": null,
   "metadata": {},
   "outputs": [],
   "source": []
  },
  {
   "cell_type": "code",
   "execution_count": null,
   "metadata": {},
   "outputs": [],
   "source": []
  }
 ],
 "metadata": {
  "kernelspec": {
   "display_name": "Python 3",
   "language": "python",
   "name": "python3"
  },
  "language_info": {
   "codemirror_mode": {
    "name": "ipython",
    "version": 3
   },
   "file_extension": ".py",
   "mimetype": "text/x-python",
   "name": "python",
   "nbconvert_exporter": "python",
   "pygments_lexer": "ipython3",
   "version": "3.8.10"
  }
 },
 "nbformat": 4,
 "nbformat_minor": 2
}
